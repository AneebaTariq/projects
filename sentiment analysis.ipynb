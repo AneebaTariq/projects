{
 "cells": [
  {
   "cell_type": "code",
   "execution_count": 1,
   "metadata": {},
   "outputs": [],
   "source": [
    "import nltk\n",
    "from nltk.corpus import wordnet as wn\n",
    "from pprint import pprint\n",
    "from nltk.tokenize import word_tokenize\n",
    "import spacy"
   ]
  },
  {
   "cell_type": "code",
   "execution_count": 8,
   "metadata": {},
   "outputs": [
    {
     "name": "stdout",
     "output_type": "stream",
     "text": [
      "{'happy': ['glad', 'well-chosen', 'felicitous', 'happy'], 'joyful': ['elated', 'jubilant', 'gleeful', 'joyful'], 'cheerful': ['pollyannaish', 'cheerful', 'upbeat'], 'excited': ['mad', 'unrestrained', 'wind_up', 'excited', 'shake_up', 'excite', 'frantic', 'agitate', 'activated', 'emotional', 'commove', 'charge', 'aroused', 'rouse', 'turn_on', 'charge_up', 'arouse', 'shake', 'stimulate', 'energize', 'delirious', 'energise', 'sex', 'worked_up', 'stir'], 'thrilled': ['inebriate', 'thrilled', 'tickle', 'vibrate', 'exhilarate', 'shudder', 'tickle_pink', 'thrill', 'exalt', 'beatify', 'shiver', 'throb'], 'content': ['content', 'depicted_object', 'subject', 'capacity', 'contented', 'substance', 'contentedness', 'subject_matter', 'message', 'cognitive_content', 'mental_object'], 'elated': ['elated', 'lift_up', 'elate', 'joyful', 'jubilant', 'gleeful', 'uplift', 'pick_up', 'intoxicate'], 'upbeat': ['eudaemonia', 'offbeat', 'well-being', 'welfare', 'pollyannaish', 'upbeat', 'eudaimonia', 'cheerful', 'wellbeing'], 'satisfied': ['meet', 'fulfill', 'satisfied', 'quenched', 'satisfy', 'fulfil', 'slaked', 'gratify', 'live_up_to', 'fill'], 'pleased': ['pleased', 'delight', 'please', 'proud_of'], 'delighted': ['transport', 'enchant', 'delighted', 'enthral', 'enjoy', 'ravish', 'beguiled', 'enthrall', 'enrapture', 'please', 'entranced', 'captivated', 'delight', 'charmed', 'revel', 'enthralled'], 'optimistic': ['optimistic', 'affirmative'], 'glad': ['sword_lily', 'gladiolus', 'gladiola', 'beaming', 'happy', 'glad'], 'positive': ['confirming', 'positive', 'convinced', 'overconfident', 'incontrovertible', 'positivist', 'confident', 'cocksure', 'positivistic', 'electropositive', 'prescribed', 'positive_degree', 'positively_charged', 'irrefutable', 'plus'], 'great': ['neat', 'cracking', 'groovy', 'gravid', 'majuscule', 'slap-up', 'not_bad', 'outstanding', 'peachy', 'bully', 'capital', 'bang-up', 'corking', 'nifty', 'heavy', 'large', 'keen', 'great', 'with_child', 'enceinte', 'big', 'smashing', 'expectant', 'dandy', 'swell'], 'excellent': ['excellent', 'first-class', 'fantabulous', 'splendid'], 'wonderful': ['rattling', 'tremendous', 'howling', 'marvelous', 'grand', 'marvellous', 'wonderful', 'wondrous', 'terrific', 'fantastic'], 'enjoyable': ['enjoyable', 'gratifying', 'pleasurable'], 'hopeful': ['wannabee', 'hopeful', 'bright', 'aspirer', 'wannabe', 'promising', 'aspirant'], 'fun': ['playfulness', 'fun', 'play', 'merriment', 'sport']}\n",
      "{'sad': ['deplorable', 'sad', 'distressing', 'pitiful', 'lamentable', 'sorry'], 'angry': ['wild', 'furious', 'raging', 'angry', 'tempestuous'], 'depressed': ['deject', 'cast_down', 'demoralise', 'blue', 'gloomy', 'depress', 'depressed', 'low-spirited', 'low', 'downcast', 'dispirit', 'grim', 'down_in_the_mouth', 'down', 'dismay', 'downhearted', 'dispirited', 'demoralize', 'get_down', 'lower', 'press_down'], 'frustrated': ['spoil', 'frustrated', 'foil', 'cross', 'queer', 'thwart', 'dun', 'foiled', 'frustrate', 'bedevil', 'rag', 'baffle', 'thwarted', 'crucify', 'bilk', 'scotch', 'disappointed', 'defeated', 'discomfited', 'torment'], 'upset': ['disordered', 'upturned', 'bowl_over', 'broken', 'perturbation', 'turn_over', 'confused', 'disorder', 'overthrow', 'discompose', 'overturn', 'disturbance', 'disconcert', 'tip_over', 'worried', 'disquieted', 'discomfit', 'upset', 'untune', 'derangement', 'turnover', 'disturb', 'knock_over', 'overturned', 'trouble', 'disturbed', 'swage', 'tump_over', 'distressed'], 'disappointed': ['foiled', 'frustrated', 'let_down', 'thwarted', 'disappointed', 'defeated', 'discomfited', 'disappoint'], 'gloomy': ['drear', 'dark', 'dismal', 'blue', 'gloomy', 'gloomful', 'depressed', 'glooming', 'low-spirited', 'low', 'downcast', 'disconsolate', 'dreary', 'grim', 'drab', 'down_in_the_mouth', 'down', 'downhearted', 'dispirited', 'dingy', 'sorry', 'sulky'], 'bored': ['world-weary', 'bore', 'bored', 'tire', 'blase', 'drill'], 'anxious': ['uneasy', 'unquiet', 'dying', 'nervous', 'queasy', 'anxious'], 'unhappy': ['unhappy', 'distressed', 'dysphoric', 'infelicitous'], 'miserable': ['pitiable', 'execrable', 'pitiful', 'suffering', 'deplorable', 'misfortunate', 'hapless', 'poor', 'measly', 'low', 'wretched', 'woeful', 'piteous', 'miserable', 'pathetic', 'low-down', 'paltry', 'scurvy', 'abject', 'scummy'], 'dismal': ['disconsolate', 'dreary', 'dingy', 'drear', 'dismal', 'dark', 'blue', 'grim', 'drab', 'gloomy', 'sorry'], 'downcast': ['dispirited', 'depressed', 'low-spirited', 'grim', 'blue', 'down_in_the_mouth', 'low', 'gloomy', 'down', 'downcast', 'downhearted'], 'distressed': ['in_a_bad_way', 'disturbed', 'worried', 'disquieted', 'hard_put', 'unhappy', 'distressed', 'stressed', 'upset', 'straiten', 'distress', 'hard-pressed', 'dysphoric'], 'hopeless': ['hopeless'], 'irritated': ['steamed', 'nettled', 'get_to', 'irritate', 'chafe', 'pissed', 'annoyed', 'nark', 'stung', 'get_at', 'bother', 'rag', 'devil', 'pissed_off', 'peeved', 'annoy', 'nettle', 'irritated', 'riled', 'rile', 'roiled', 'gravel', 'miffed', 'vex'], 'troubled': ['incommode', 'pain', 'disorder', 'riotous', 'tumultuous', 'trouble_oneself', 'perturb', 'troubled', 'cark', 'unhinge', 'inconvenience', 'bother', 'inconvenience_oneself', 'disruptive', 'upset', 'disoblige', 'turbulent', 'disturb', 'ail', 'trouble', 'discommode', 'distract', 'put_out', 'disquiet'], 'disheartened': ['demoralized', 'discouraged', 'disheartened', 'put_off', 'dishearten', 'demoralised'], 'pessimistic': ['pessimistic']}\n"
     ]
    }
   ],
   "source": [
    "positive_words = ['happy', 'joyful', 'cheerful', 'excited', 'thrilled', 'content','elated', 'upbeat', 'satisfied', 'pleased',\n",
    "'delighted', 'optimistic','glad', 'positive', 'great', 'excellent', 'wonderful', 'enjoyable','hopeful','fun']\n",
    "negetive_words = ['sad', 'angry', 'depressed', 'frustrated', 'upset', 'disappointed','gloomy', 'bored', 'anxious', 'unhappy',\n",
    "'miserable', 'dismal','downcast', 'distressed', 'hopeless', 'irritated', 'troubled','disheartened', 'pessimistic']\n",
    "positive_dict={}\n",
    "for word in positive_words:\n",
    "    positive =set()\n",
    "    synsets = wn.synsets(word)\n",
    "    for synset in synsets:\n",
    "        for lemma in synset.lemmas():\n",
    "            positive.add(lemma.name())\n",
    "    positive_dict[word] = list(positive)\n",
    "print(positive_dict)\n",
    "negetive_dict={}\n",
    "for word in negetive_words:\n",
    "    negetive =set()\n",
    "    synsets = wn.synsets(word)\n",
    "    for synset in synsets:\n",
    "        for lemma in synset.lemmas():\n",
    "            negetive.add(lemma.name())\n",
    "    negetive_dict[word] = list(negetive)\n",
    "print(negetive_dict)"
   ]
  },
  {
   "cell_type": "code",
   "execution_count": 3,
   "metadata": {},
   "outputs": [
    {
     "name": "stdout",
     "output_type": "stream",
     "text": [
      "working but bored quite a fun\n"
     ]
    }
   ],
   "source": [
    "sen=input(\"enter your string here \")\n",
    "print(sen)"
   ]
  },
  {
   "cell_type": "code",
   "execution_count": 4,
   "metadata": {},
   "outputs": [
    {
     "name": "stdout",
     "output_type": "stream",
     "text": [
      "['working', 'but', 'bored', 'quite', 'a', 'fun']\n"
     ]
    }
   ],
   "source": [
    "tokenized = word_tokenize(sen.lower())\n",
    "print(tokenized)"
   ]
  },
  {
   "cell_type": "code",
   "execution_count": 5,
   "metadata": {},
   "outputs": [
    {
     "name": "stdout",
     "output_type": "stream",
     "text": [
      "working:0 , i=0\n",
      "working:0 , i=0\n",
      "but:0 , i=0\n",
      "but:0 , i=0\n",
      "bored:0 , i=0\n",
      "bored:0 , i=0\n",
      "quite:0 , i=0\n",
      "quite:0 , i=0\n",
      "a:0 , i=0\n",
      "a:0 , i=0\n",
      "fun:0 , i=0\n",
      "fun:0 , i=0\n"
     ]
    }
   ],
   "source": [
    "positive_count= 0\n",
    "for word in tokenized:\n",
    "    synset1 = wn.synsets(word)\n",
    "    i = 0\n",
    "    similarity = 0\n",
    "    for key, value in positive_dict.items():\n",
    "        synset2 = wn.synsets(key)\n",
    "        for s1 in synset1:\n",
    "            for s2 in synset2:\n",
    "                simi = s1.path_similarity(s2)\n",
    "                if simi is not None and simi > 0.5:\n",
    "                    similarity += simi\n",
    "                    i += 1\n",
    "                    break\n",
    "    if i == 0:\n",
    "        avg = 0\n",
    "    else:\n",
    "        avg = similarity/i\n",
    "    print(f'{word}:{avg} , i={i}')\n",
    "    if avg > 0.5:\n",
    "        positive_count += 1\n",
    "    i = 0\n",
    "    for value in positive_dict.values():\n",
    "        if isinstance(value,list):\n",
    "            for val in value:\n",
    "                synset3 = wn.synsets(val)\n",
    "                for s1 in synset1:\n",
    "                    for s3 in synset3:\n",
    "                        simi = s1.path_similarity(s3)\n",
    "                        if simi is not None and simi > 0.5:\n",
    "                            similarity += simi\n",
    "                            i += 1\n",
    "                            break\n",
    "    if i == 0:\n",
    "        avg = 0\n",
    "    else:\n",
    "        avg = similarity/i\n",
    "    print(f'{word}:{avg} , i={i}')\n",
    "    if avg > 0.5:\n",
    "        positive_count += 1"
   ]
  },
  {
   "cell_type": "code",
   "execution_count": 6,
   "metadata": {},
   "outputs": [
    {
     "name": "stdout",
     "output_type": "stream",
     "text": [
      "working:0 , i=0\n",
      "working:0 , i=0\n",
      "but:0 , i=0\n",
      "but:0 , i=0\n",
      "bored:1.0 , i=4\n",
      "bored:1.4 , i=10\n",
      "quite:0 , i=0\n",
      "quite:0 , i=0\n",
      "a:0 , i=0\n",
      "a:0 , i=0\n",
      "fun:0 , i=0\n",
      "fun:0 , i=0\n"
     ]
    }
   ],
   "source": [
    "negative_count = 0\n",
    "for word in tokenized:\n",
    "    synset1 = wn.synsets(word)\n",
    "    i = 0\n",
    "    similarity = 0\n",
    "    for key, value in negetive_dict.items():\n",
    "        synset2 = wn.synsets(key)\n",
    "        for s1 in synset1:\n",
    "            for s2 in synset2:\n",
    "                simi = s1.path_similarity(s2)\n",
    "                if simi is not None and simi > 0.5:\n",
    "                    similarity += simi\n",
    "                    i += 1\n",
    "                    break\n",
    "    if i == 0:\n",
    "        avg = 0\n",
    "    else:\n",
    "        avg = similarity/i\n",
    "    print(f'{word}:{avg} , i={i}')\n",
    "    if avg > 0.5:\n",
    "        negative_count += 1\n",
    "    i = 0\n",
    "    for value in negetive_dict.values():\n",
    "        if isinstance(value,list):\n",
    "            for val in value:\n",
    "                synset3 = wn.synsets(val)\n",
    "                for s1 in synset1:\n",
    "                    for s3 in synset3:\n",
    "                        simi = s1.path_similarity(s3)\n",
    "                        if simi is not None and simi > 0.5:\n",
    "                            similarity += simi\n",
    "                            i += 1\n",
    "                            break\n",
    "    if i == 0:\n",
    "        avg = 0\n",
    "    else:\n",
    "        avg = similarity/i\n",
    "    print(f'{word}:{avg} , i={i}')\n",
    "    if avg > 0.5:\n",
    "        negative_count += 1"
   ]
  },
  {
   "cell_type": "code",
   "execution_count": 7,
   "metadata": {},
   "outputs": [
    {
     "name": "stdout",
     "output_type": "stream",
     "text": [
      "0 2\n",
      "Negative\n"
     ]
    }
   ],
   "source": [
    "print(positive_count,negative_count)\n",
    "if positive_count > negative_count:\n",
    "    print(\"Positive\")\n",
    "elif negative_count > positive_count:\n",
    "    print(\"Negative\")\n",
    "else:\n",
    "    print( \"Neutral\")"
   ]
  },
  {
   "cell_type": "code",
   "execution_count": null,
   "metadata": {},
   "outputs": [],
   "source": []
  }
 ],
 "metadata": {
  "kernelspec": {
   "display_name": "Python 3",
   "language": "python",
   "name": "python3"
  },
  "language_info": {
   "codemirror_mode": {
    "name": "ipython",
    "version": 3
   },
   "file_extension": ".py",
   "mimetype": "text/x-python",
   "name": "python",
   "nbconvert_exporter": "python",
   "pygments_lexer": "ipython3",
   "version": "3.12.4"
  }
 },
 "nbformat": 4,
 "nbformat_minor": 2
}
