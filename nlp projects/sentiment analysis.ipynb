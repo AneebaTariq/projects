{
 "cells": [
  {
   "cell_type": "code",
   "execution_count": 1,
   "metadata": {},
   "outputs": [],
   "source": [
    "import nltk\n",
    "from nltk.corpus import wordnet as wn\n",
    "from pprint import pprint\n",
    "from nltk.tokenize import word_tokenize\n",
    "import spacy"
   ]
  },
  {
   "cell_type": "code",
   "execution_count": 2,
   "metadata": {},
   "outputs": [
    {
     "name": "stdout",
     "output_type": "stream",
     "text": [
      "{'happy': ['happy', 'well-chosen', 'felicitous', 'glad'], 'joyful': ['joyful', 'jubilant', 'elated', 'gleeful'], 'cheerful': ['pollyannaish', 'upbeat', 'cheerful'], 'excited': ['arouse', 'unrestrained', 'excited', 'aroused', 'rouse', 'sex', 'agitate', 'shake', 'excite', 'shake_up', 'charge', 'charge_up', 'energise', 'activated', 'delirious', 'commove', 'emotional', 'frantic', 'stimulate', 'mad', 'energize', 'wind_up', 'turn_on', 'stir', 'worked_up'], 'thrilled': ['tickle', 'throb', 'exalt', 'shudder', 'exhilarate', 'beatify', 'tickle_pink', 'thrill', 'vibrate', 'inebriate', 'shiver', 'thrilled'], 'content': ['capacity', 'cognitive_content', 'contented', 'mental_object', 'message', 'depicted_object', 'content', 'substance', 'subject', 'contentedness', 'subject_matter'], 'elated': ['intoxicate', 'jubilant', 'elated', 'joyful', 'lift_up', 'gleeful', 'pick_up', 'uplift', 'elate'], 'upbeat': ['offbeat', 'well-being', 'eudaimonia', 'eudaemonia', 'cheerful', 'welfare', 'wellbeing', 'upbeat', 'pollyannaish'], 'satisfied': ['satisfied', 'satisfy', 'live_up_to', 'fulfill', 'quenched', 'meet', 'fill', 'slaked', 'fulfil', 'gratify'], 'pleased': ['please', 'delight', 'proud_of', 'pleased'], 'delighted': ['delight', 'enrapture', 'entranced', 'enchant', 'revel', 'ravish', 'delighted', 'beguiled', 'captivated', 'enthral', 'please', 'enthrall', 'charmed', 'transport', 'enjoy', 'enthralled'], 'optimistic': ['affirmative', 'optimistic'], 'glad': ['happy', 'gladiolus', 'sword_lily', 'glad', 'beaming', 'gladiola'], 'positive': ['confident', 'positively_charged', 'cocksure', 'convinced', 'positive', 'confirming', 'prescribed', 'irrefutable', 'positivist', 'incontrovertible', 'electropositive', 'overconfident', 'positivistic', 'positive_degree', 'plus'], 'great': ['enceinte', 'keen', 'expectant', 'peachy', 'neat', 'not_bad', 'groovy', 'swell', 'smashing', 'corking', 'outstanding', 'large', 'big', 'bully', 'slap-up', 'great', 'majuscule', 'bang-up', 'cracking', 'capital', 'heavy', 'gravid', 'dandy', 'with_child', 'nifty'], 'excellent': ['excellent', 'splendid', 'fantabulous', 'first-class'], 'wonderful': ['fantastic', 'terrific', 'marvelous', 'howling', 'wondrous', 'tremendous', 'wonderful', 'rattling', 'grand', 'marvellous'], 'enjoyable': ['gratifying', 'enjoyable', 'pleasurable'], 'hopeful': ['promising', 'aspirer', 'wannabe', 'hopeful', 'wannabee', 'bright', 'aspirant'], 'fun': ['play', 'merriment', 'playfulness', 'fun', 'sport']}\n",
      "{'sad': ['pitiful', 'lamentable', 'distressing', 'deplorable', 'sorry', 'sad'], 'angry': ['tempestuous', 'wild', 'raging', 'angry', 'furious'], 'depressed': ['cast_down', 'get_down', 'deject', 'demoralize', 'gloomy', 'demoralise', 'depress', 'dispirit', 'grim', 'downcast', 'lower', 'downhearted', 'blue', 'press_down', 'dispirited', 'down', 'low-spirited', 'down_in_the_mouth', 'low', 'dismay', 'depressed'], 'frustrated': ['disappointed', 'bedevil', 'foiled', 'bilk', 'scotch', 'baffle', 'spoil', 'dun', 'rag', 'defeated', 'torment', 'thwart', 'thwarted', 'crucify', 'foil', 'discomfited', 'frustrate', 'cross', 'frustrated', 'queer'], 'upset': ['disturbance', 'overthrow', 'worried', 'overturned', 'turn_over', 'bowl_over', 'overturn', 'turnover', 'tump_over', 'perturbation', 'disordered', 'broken', 'disconcert', 'discompose', 'disquieted', 'upturned', 'knock_over', 'swage', 'upset', 'tip_over', 'disturbed', 'derangement', 'discomfit', 'disorder', 'trouble', 'confused', 'disturb', 'distressed', 'untune'], 'disappointed': ['disappointed', 'foiled', 'discomfited', 'defeated', 'thwarted', 'let_down', 'frustrated', 'disappoint'], 'gloomy': ['gloomy', 'drear', 'dingy', 'grim', 'downcast', 'sorry', 'drab', 'sulky', 'dismal', 'gloomful', 'downhearted', 'blue', 'glooming', 'dispirited', 'dreary', 'down', 'low-spirited', 'down_in_the_mouth', 'dark', 'low', 'disconsolate', 'depressed'], 'bored': ['world-weary', 'blase', 'bored', 'bore', 'tire', 'drill'], 'anxious': ['unquiet', 'uneasy', 'queasy', 'nervous', 'anxious', 'dying'], 'unhappy': ['unhappy', 'dysphoric', 'infelicitous', 'distressed'], 'miserable': ['abject', 'paltry', 'suffering', 'pathetic', 'piteous', 'low-down', 'pitiful', 'poor', 'miserable', 'execrable', 'pitiable', 'woeful', 'wretched', 'misfortunate', 'low', 'deplorable', 'scurvy', 'hapless', 'scummy', 'measly'], 'dismal': ['dark', 'dreary', 'dingy', 'grim', 'sorry', 'disconsolate', 'drab', 'gloomy', 'dismal', 'drear', 'blue'], 'downcast': ['low', 'dispirited', 'grim', 'downcast', 'gloomy', 'down', 'depressed', 'low-spirited', 'down_in_the_mouth', 'downhearted', 'blue'], 'distressed': ['straiten', 'unhappy', 'stressed', 'in_a_bad_way', 'worried', 'dysphoric', 'distress', 'distressed', 'upset', 'hard_put', 'disturbed', 'disquieted', 'hard-pressed'], 'hopeless': ['hopeless'], 'irritated': ['peeved', 'irritate', 'chafe', 'vex', 'get_to', 'steamed', 'rag', 'rile', 'irritated', 'get_at', 'annoyed', 'nettle', 'bother', 'annoy', 'gravel', 'miffed', 'roiled', 'riled', 'nettled', 'pissed', 'nark', 'stung', 'pissed_off', 'devil'], 'troubled': ['perturb', 'inconvenience_oneself', 'cark', 'riotous', 'turbulent', 'trouble_oneself', 'incommode', 'unhinge', 'inconvenience', 'distract', 'put_out', 'bother', 'disruptive', 'tumultuous', 'upset', 'ail', 'disoblige', 'pain', 'troubled', 'discommode', 'disorder', 'trouble', 'disturb', 'disquiet'], 'disheartened': ['put_off', 'dishearten', 'demoralized', 'discouraged', 'disheartened', 'demoralised'], 'pessimistic': ['pessimistic']}\n"
     ]
    }
   ],
   "source": [
    "positive_words = ['happy', 'joyful', 'cheerful', 'excited', 'thrilled', 'content','elated', 'upbeat', 'satisfied', 'pleased',\n",
    "'delighted', 'optimistic','glad', 'positive', 'great', 'excellent', 'wonderful', 'enjoyable','hopeful','fun']\n",
    "negetive_words = ['sad', 'angry', 'depressed', 'frustrated', 'upset', 'disappointed','gloomy', 'bored', 'anxious', 'unhappy',\n",
    "'miserable', 'dismal','downcast', 'distressed', 'hopeless', 'irritated', 'troubled','disheartened', 'pessimistic']\n",
    "positive_dict={}\n",
    "for word in positive_words:\n",
    "    positive =set()\n",
    "    synsets = wn.synsets(word)\n",
    "    for synset in synsets:\n",
    "        for lemma in synset.lemmas():\n",
    "            positive.add(lemma.name())\n",
    "    positive_dict[word] = list(positive)\n",
    "print(positive_dict)\n",
    "negetive_dict={}\n",
    "for word in negetive_words:\n",
    "    negetive =set()\n",
    "    synsets = wn.synsets(word)\n",
    "    for synset in synsets:\n",
    "        for lemma in synset.lemmas():\n",
    "            negetive.add(lemma.name())\n",
    "    negetive_dict[word] = list(negetive)\n",
    "print(negetive_dict)"
   ]
  },
  {
   "cell_type": "code",
   "execution_count": 3,
   "metadata": {},
   "outputs": [
    {
     "name": "stdout",
     "output_type": "stream",
     "text": [
      "working but bored quite a fun\n"
     ]
    }
   ],
   "source": [
    "sen=input(\"enter your string here \")\n",
    "print(sen)"
   ]
  },
  {
   "cell_type": "code",
   "execution_count": 8,
   "metadata": {},
   "outputs": [
    {
     "name": "stdout",
     "output_type": "stream",
     "text": [
      "['working', 'but', 'bored', 'quite', 'a', 'fun']\n"
     ]
    }
   ],
   "source": [
    "tokenized = word_tokenize(sen.lower())\n",
    "print(tokenized)"
   ]
  },
  {
   "cell_type": "code",
   "execution_count": 9,
   "metadata": {},
   "outputs": [
    {
     "name": "stdout",
     "output_type": "stream",
     "text": [
      "working:0.33440860215053825 , i=155\n",
      "working:0.38660130718953767 , i=1020\n",
      "but:0.3333333333333332 , i=19\n",
      "but:0.38524590163934475 , i=122\n",
      "bored:0.3333333333333333 , i=57\n",
      "bored:0.38524590163934325 , i=366\n",
      "quite:0.33333333333333304 , i=76\n",
      "quite:0.38524590163934624 , i=488\n",
      "a:0 , i=0\n",
      "a:0 , i=0\n",
      "fun:0.8666666666666666 , i=5\n",
      "fun:0.9791666666666666 , i=16\n"
     ]
    }
   ],
   "source": [
    "positive_count= 0\n",
    "for word in tokenized:\n",
    "    synset1 = wn.synsets(word)\n",
    "    i = 0\n",
    "    similarity = 0\n",
    "    for key, value in positive_dict.items():\n",
    "        synset2 = wn.synsets(key)\n",
    "        for s1 in synset1:\n",
    "            for s2 in synset2:\n",
    "                simi = s1.path_similarity(s2)\n",
    "                if simi is not None and simi > 0.3:\n",
    "                    similarity += simi\n",
    "                    i += 1\n",
    "                    break\n",
    "    if i == 0:\n",
    "        avg = 0\n",
    "    else:\n",
    "        avg = similarity/i\n",
    "    print(f'{word}:{avg} , i={i}')\n",
    "    if avg > 0.5:\n",
    "        positive_count += 1\n",
    "    i = 0\n",
    "    for value in positive_dict.values():\n",
    "        if isinstance(value,list):\n",
    "            for val in value:\n",
    "                synset3 = wn.synsets(val)\n",
    "                for s1 in synset1:\n",
    "                    for s3 in synset3:\n",
    "                        simi = s1.path_similarity(s3)\n",
    "                        if simi is not None and simi > 0.3:\n",
    "                            similarity += simi\n",
    "                            i += 1\n",
    "                            break\n",
    "    if i == 0:\n",
    "        avg = 0\n",
    "    else:\n",
    "        avg = similarity/i\n",
    "    print(f'{word}:{avg} , i={i}')\n",
    "    if avg > 0.5:\n",
    "        positive_count += 1"
   ]
  },
  {
   "cell_type": "code",
   "execution_count": 10,
   "metadata": {},
   "outputs": [
    {
     "name": "stdout",
     "output_type": "stream",
     "text": [
      "working:0.3343881856540091 , i=158\n",
      "working:0.3723712835387879 , i=1379\n",
      "but:0.3333333333333332 , i=19\n",
      "but:0.37218813905930564 , i=163\n",
      "bored:0.3563218390804596 , i=58\n",
      "bored:0.3848238482384846 , i=492\n",
      "quite:0.33333333333333304 , i=76\n",
      "quite:0.3721881390593086 , i=652\n",
      "a:0 , i=0\n",
      "a:0 , i=0\n",
      "fun:0 , i=0\n",
      "fun:0.3333333333333333 , i=2\n"
     ]
    }
   ],
   "source": [
    "negative_count = 0\n",
    "for word in tokenized:\n",
    "    synset1 = wn.synsets(word)\n",
    "    i = 0\n",
    "    similarity = 0\n",
    "    for key, value in negetive_dict.items():\n",
    "        synset2 = wn.synsets(key)\n",
    "        for s1 in synset1:\n",
    "            for s2 in synset2:\n",
    "                simi = s1.path_similarity(s2)\n",
    "                if simi is not None and simi > 0.3:\n",
    "                    similarity += simi\n",
    "                    i += 1\n",
    "                    break\n",
    "    if i == 0:\n",
    "        avg = 0\n",
    "    else:\n",
    "        avg = similarity/i\n",
    "    print(f'{word}:{avg} , i={i}')\n",
    "    if avg > 0.5:\n",
    "        negative_count += 1\n",
    "    i = 0\n",
    "    for value in negetive_dict.values():\n",
    "        if isinstance(value,list):\n",
    "            for val in value:\n",
    "                synset3 = wn.synsets(val)\n",
    "                for s1 in synset1:\n",
    "                    for s3 in synset3:\n",
    "                        simi = s1.path_similarity(s3)\n",
    "                        if simi is not None and simi > 0.3:\n",
    "                            similarity += simi\n",
    "                            i += 1\n",
    "                            break\n",
    "    if i == 0:\n",
    "        avg = 0\n",
    "    else:\n",
    "        avg = similarity/i\n",
    "    print(f'{word}:{avg} , i={i}')\n",
    "    if avg > 0.5:\n",
    "        negative_count += 1"
   ]
  },
  {
   "cell_type": "code",
   "execution_count": 11,
   "metadata": {},
   "outputs": [
    {
     "name": "stdout",
     "output_type": "stream",
     "text": [
      "2 0\n",
      "Positive\n"
     ]
    }
   ],
   "source": [
    "print(positive_count,negative_count)\n",
    "if positive_count > negative_count:\n",
    "    print(\"Positive\")\n",
    "elif negative_count > positive_count:\n",
    "    print(\"Negative\")\n",
    "else:\n",
    "    print( \"Neutral\")"
   ]
  },
  {
   "cell_type": "code",
   "execution_count": null,
   "metadata": {},
   "outputs": [],
   "source": []
  }
 ],
 "metadata": {
  "kernelspec": {
   "display_name": "Python 3",
   "language": "python",
   "name": "python3"
  },
  "language_info": {
   "codemirror_mode": {
    "name": "ipython",
    "version": 3
   },
   "file_extension": ".py",
   "mimetype": "text/x-python",
   "name": "python",
   "nbconvert_exporter": "python",
   "pygments_lexer": "ipython3",
   "version": "3.12.4"
  }
 },
 "nbformat": 4,
 "nbformat_minor": 2
}
